{
 "cells": [
  {
   "cell_type": "code",
   "execution_count": 1,
   "id": "ef27b374",
   "metadata": {},
   "outputs": [
    {
     "name": "stdout",
     "output_type": "stream",
     "text": [
      "Requirement already satisfied: cryptography in c:\\users\\dell\\anaconda3\\envs\\tensor\\lib\\site-packages (41.0.3)\n",
      "Requirement already satisfied: cffi>=1.12 in c:\\users\\dell\\anaconda3\\envs\\tensor\\lib\\site-packages (from cryptography) (1.15.1)\n",
      "Requirement already satisfied: pycparser in c:\\users\\dell\\anaconda3\\envs\\tensor\\lib\\site-packages (from cffi>=1.12->cryptography) (2.21)\n"
     ]
    }
   ],
   "source": [
    "!pip install cryptography\n"
   ]
  },
  {
   "cell_type": "code",
   "execution_count": null,
   "id": "05980a2d",
   "metadata": {},
   "outputs": [],
   "source": []
  },
  {
   "cell_type": "code",
   "execution_count": 2,
   "id": "3468e708",
   "metadata": {},
   "outputs": [],
   "source": [
    "from cryptography.hazmat.primitives.ciphers import Cipher, algorithms, modes\n",
    "from cryptography.hazmat.backends import default_backend\n",
    "from cryptography.hazmat.primitives import hashes, padding\n",
    "from cryptography.hazmat.primitives.kdf.pbkdf2 import PBKDF2HMAC\n",
    "import os"
   ]
  },
  {
   "cell_type": "code",
   "execution_count": 3,
   "id": "254d1326",
   "metadata": {},
   "outputs": [],
   "source": [
    "# Set up password-based encryption (generate a key from a password)\n",
    "password = b'securepassword'\n",
    "salt = os.urandom(16)  # A random salt for each encryption session"
   ]
  },
  {
   "cell_type": "code",
   "execution_count": 4,
   "id": "fe0c50c4",
   "metadata": {},
   "outputs": [],
   "source": [
    "\n",
    "# Derive an AES key from the password\n",
    "kdf = PBKDF2HMAC(\n",
    "    algorithm=hashes.SHA256(),\n",
    "    length=32,\n",
    "    salt=salt,\n",
    "    iterations=100000,\n",
    "    backend=default_backend()\n",
    ")"
   ]
  },
  {
   "cell_type": "code",
   "execution_count": 5,
   "id": "7cbf9c0f",
   "metadata": {},
   "outputs": [],
   "source": [
    "key = kdf.derive(password)"
   ]
  },
  {
   "cell_type": "code",
   "execution_count": 6,
   "id": "939ed8c2",
   "metadata": {},
   "outputs": [],
   "source": [
    "# Encryption parameters\n",
    "iv = os.urandom(16)  # Initialization vector"
   ]
  },
  {
   "cell_type": "code",
   "execution_count": 7,
   "id": "0abdd623",
   "metadata": {},
   "outputs": [],
   "source": [
    "# Sample data to encrypt (at rest)\n",
    "data = b\"This is sensitive data to be encrypted at rest.\""
   ]
  },
  {
   "cell_type": "code",
   "execution_count": 8,
   "id": "92089dd9",
   "metadata": {},
   "outputs": [],
   "source": [
    "# Set up AES encryption\n",
    "cipher = Cipher(algorithms.AES(key), modes.CBC(iv), backend=default_backend())\n",
    "encryptor = cipher.encryptor()"
   ]
  },
  {
   "cell_type": "code",
   "execution_count": 9,
   "id": "7ceea0cd",
   "metadata": {},
   "outputs": [],
   "source": [
    "\n",
    "# Pad data to match block size\n",
    "padder = padding.PKCS7(algorithms.AES.block_size).padder()\n",
    "padded_data = padder.update(data) + padder.finalize()"
   ]
  },
  {
   "cell_type": "code",
   "execution_count": 10,
   "id": "ce47b3e0",
   "metadata": {},
   "outputs": [],
   "source": [
    "# Encrypt the data\n",
    "encrypted_data = encryptor.update(padded_data) + encryptor.finalize()"
   ]
  },
  {
   "cell_type": "code",
   "execution_count": 14,
   "id": "ee3f791f",
   "metadata": {},
   "outputs": [],
   "source": [
    "\n",
    "# Save the encrypted data to a file\n",
    "with open(\"encrypted_data.bin\", \"wb\") as f:\n",
    "    f.write(salt + iv + encrypted_data)\n"
   ]
  },
  {
   "cell_type": "code",
   "execution_count": 13,
   "id": "079c964d",
   "metadata": {},
   "outputs": [
    {
     "name": "stdout",
     "output_type": "stream",
     "text": [
      "Encrypted message (in hexadecimal): 042aeb20b5f5550a2a32ed0fced6761d2734f79e5ad3f7ff279fe0e1eff4b126db8c7eab4eec8f1ada391f61f4f5ce10\n"
     ]
    }
   ],
   "source": [
    "# Print the encrypted message in hexadecimal format\n",
    "print(\"Encrypted message (in hexadecimal):\", encrypted_data.hex())"
   ]
  },
  {
   "cell_type": "code",
   "execution_count": null,
   "id": "c7db8bc1",
   "metadata": {},
   "outputs": [],
   "source": [
    "# Read the encrypted data\n",
    "with open(\"encrypted_data.bin\", \"rb\") as f:\n",
    "    salt = f.read(16)   # First 16 bytes are the salt\n",
    "    iv = f.read(16)      # Next 16 bytes are the IV\n",
    "    encrypted_data = f.read()  # Remaining bytes are the encrypted data\n",
    "\n",
    "# Derive the key again from the password and salt\n",
    "kdf = PBKDF2HMAC(\n",
    "    algorithm=hashes.SHA256(),\n",
    "    length=32,\n",
    "    salt=salt,\n",
    "    iterations=100000,\n",
    "    backend=default_backend()\n",
    ")\n",
    "key = kdf.derive(password)\n",
    "\n",
    "# Decrypt\n",
    "cipher = Cipher(algorithms.AES(key), modes.CBC(iv), backend=default_backend())\n",
    "decryptor = cipher.decryptor()\n",
    "padded_data = decryptor.update(encrypted_data) + decryptor.finalize()\n",
    "\n",
    "# Remove padding\n",
    "unpadder = padding.PKCS7(algorithms.AES.block_size).unpadder()\n",
    "data = unpadder.update(padded_data) + unpadder.finalize()\n",
    "\n",
    "print(\"Decrypted data:\", data.decode())\n"
   ]
  },
  {
   "cell_type": "code",
   "execution_count": 12,
   "id": "cc823d92",
   "metadata": {},
   "outputs": [],
   "source": [
    "# Read the encrypted data\n",
    "with open(\"encrypted_data.bin\", \"rb\") as f:\n",
    "    salt = f.read(16)   # First 16 bytes are the salt\n",
    "    iv = f.read(16)      # Next 16 bytes are the IV\n",
    "    encrypted_data = f.read()  # Remaining bytes are the encrypted data"
   ]
  },
  {
   "cell_type": "code",
   "execution_count": 15,
   "id": "af1d8894",
   "metadata": {},
   "outputs": [],
   "source": [
    "# Derive the key again from the password and salt\n",
    "kdf = PBKDF2HMAC(\n",
    "    algorithm=hashes.SHA256(),\n",
    "    length=32,\n",
    "    salt=salt,\n",
    "    iterations=100000,\n",
    "    backend=default_backend()\n",
    ")\n",
    "key = kdf.derive(password)"
   ]
  },
  {
   "cell_type": "code",
   "execution_count": 20,
   "id": "6a4330a6",
   "metadata": {},
   "outputs": [
    {
     "name": "stdout",
     "output_type": "stream",
     "text": [
      "Decrypted message: This is sensitive data to be encrypted at rest.\n"
     ]
    }
   ],
   "source": [
    "\n",
    "# Decrypt\n",
    "cipher = Cipher(algorithms.AES(key), modes.CBC(iv), backend=default_backend())\n",
    "decryptor = cipher.decryptor()\n",
    "padded_data = decryptor.update(encrypted_data) + decryptor.finalize()\n",
    "# Print the decrypted message\n"
   ]
  },
  {
   "cell_type": "code",
   "execution_count": null,
   "id": "ebbadcec",
   "metadata": {},
   "outputs": [],
   "source": []
  },
  {
   "cell_type": "code",
   "execution_count": null,
   "id": "80502a12",
   "metadata": {},
   "outputs": [],
   "source": []
  },
  {
   "cell_type": "code",
   "execution_count": null,
   "id": "c49554f9",
   "metadata": {},
   "outputs": [],
   "source": []
  }
 ],
 "metadata": {
  "kernelspec": {
   "display_name": "Python 3 (ipykernel)",
   "language": "python",
   "name": "python3"
  },
  "language_info": {
   "codemirror_mode": {
    "name": "ipython",
    "version": 3
   },
   "file_extension": ".py",
   "mimetype": "text/x-python",
   "name": "python",
   "nbconvert_exporter": "python",
   "pygments_lexer": "ipython3",
   "version": "3.10.13"
  }
 },
 "nbformat": 4,
 "nbformat_minor": 5
}
